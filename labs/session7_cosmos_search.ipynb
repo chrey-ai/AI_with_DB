{
 "cells": [
  {
   "cell_type": "markdown",
   "id": "96b798c8",
   "metadata": {},
   "source": [
    "### For this lab, you would need to create a Cosmos DB container with vector indexing and search features enabled. \n",
    "(read more: https://learn.microsoft.com/en-us/python/api/overview/azure/cosmos-readme?view=azure-python)\n",
    "\n",
    "\n"
   ]
  },
  {
   "cell_type": "markdown",
   "id": "5992f2a2",
   "metadata": {},
   "source": [
    "### Set up steps"
   ]
  },
  {
   "cell_type": "markdown",
   "id": "a5957995",
   "metadata": {},
   "source": [
    "1- Enable Vector indexing and search (Vector Search for NoSQL API) and Fulle Text search (Preview Features for Full Text Search) in Azure Cosmos DB for NoSQL via Features page of your Azure Cosmos DB:\n",
    "<img src=\".\\imgs\\cosmos_policy.png\" alt=\"description\" width=\"900\" height=\"300\"/>"
   ]
  },
  {
   "cell_type": "markdown",
   "id": "170c1088",
   "metadata": {},
   "source": [
    "2- Define vector embedding policy, indexing policy and full text policy which will then be used for creating the container:"
   ]
  },
  {
   "cell_type": "code",
   "execution_count": 28,
   "id": "499ff750",
   "metadata": {},
   "outputs": [],
   "source": [
    "vector_embedding_policy = {\n",
    "    \"vectorEmbeddings\": [\n",
    "        {\n",
    "            \"path\":\"/vector1\",\n",
    "            \"dataType\":\"float32\",\n",
    "            \"distanceFunction\":\"cosine\",\n",
    "            \"dimensions\":1536\n",
    "        },\n",
    "                {\n",
    "            \"path\":\"/vector2\",\n",
    "            \"dataType\":\"float32\",\n",
    "            \"distanceFunction\":\"cosine\",\n",
    "            \"dimensions\":1536\n",
    "        }\n",
    "    ]\n",
    "}"
   ]
  },
  {
   "cell_type": "code",
   "execution_count": 29,
   "id": "92f1cf35",
   "metadata": {},
   "outputs": [],
   "source": [
    "full_text_policy = {\n",
    "    \"defaultLanguage\": \"en-US\",\n",
    "    \"fullTextPaths\": [\n",
    "        {\n",
    "            \"path\": \"/description\",\n",
    "            \"language\": \"en-US\"\n",
    "        },\n",
    "                {\n",
    "            \"path\": \"/name\",\n",
    "            \"language\": \"en-US\"\n",
    "        }\n",
    "    ]\n",
    "}"
   ]
  },
  {
   "cell_type": "code",
   "execution_count": 30,
   "id": "16014f7e",
   "metadata": {},
   "outputs": [],
   "source": [
    "indexing_policy = {\n",
    "    \"indexingMode\": \"consistent\",\n",
    "    \"automatic\": True,\n",
    "    \"includedPaths\": [\n",
    "        {\n",
    "            \"path\": \"/*\"\n",
    "        }\n",
    "    ],\n",
    "    \"excludedPaths\": [\n",
    "        {\n",
    "            \"path\": \"/_etag/?\"\n",
    "        },\n",
    "        {\n",
    "            \"path\": \"/vector1/*\"\n",
    "        }],\n",
    "    \"vectorIndexes\": [\n",
    "            {\"path\": \"/vector1\", \"type\": \"diskANN\"},\n",
    "        ],\n",
    "\n",
    "    \"fullTextIndexes\": [\n",
    "            {\"path\": \"/description\"},\n",
    "            {\"path\": \"/name\"}\n",
    "        ]\n",
    "}"
   ]
  },
  {
   "cell_type": "markdown",
   "id": "b3ce79e6",
   "metadata": {},
   "source": [
    "3- Create the container \"reviews\""
   ]
  },
  {
   "cell_type": "code",
   "execution_count": 31,
   "id": "147af9e3",
   "metadata": {},
   "outputs": [
    {
     "data": {
      "text/plain": [
       "<ContainerProxy [dbs/Contoso/colls/reviews]>"
      ]
     },
     "execution_count": 31,
     "metadata": {},
     "output_type": "execute_result"
    }
   ],
   "source": [
    "from azure.cosmos import CosmosClient, PartitionKey\n",
    "import os\n",
    "from dotenv import load_dotenv\n",
    "load_dotenv()\n",
    "\n",
    "\n",
    "databaseName = os.getenv(\"COSMOS_DATABASE_NAME\")\n",
    "containerName =  \"reviews\"\n",
    "client = CosmosClient.from_connection_string(os.getenv(\"COSMOS_CONNECTION_STRING\"))\n",
    "database = client.get_database_client(databaseName)\n",
    "database.create_container(id=containerName, partition_key=PartitionKey(path=\"/category\"),\n",
    "                          indexing_policy=indexing_policy,\n",
    "                          vector_embedding_policy=vector_embedding_policy,\n",
    "                          full_text_policy=full_text_policy)"
   ]
  },
  {
   "cell_type": "markdown",
   "id": "4f407c8c",
   "metadata": {},
   "source": [
    "4- Populate with data + vectors"
   ]
  },
  {
   "cell_type": "code",
   "execution_count": 34,
   "id": "9eea20f0",
   "metadata": {},
   "outputs": [],
   "source": [
    "from azure.cosmos.aio import CosmosClient\n",
    "import os\n",
    "import json\n",
    "\n",
    "# connect to embedding service\n",
    "from semantic_kernel.connectors.ai.open_ai import AzureTextEmbedding\n",
    "import os\n",
    "api_key = os.getenv(\"OPENAI_API_KEY\")\n",
    "embedding_service = AzureTextEmbedding(\n",
    "    deployment_name=\"text-embedding-ada-002\",\n",
    "    api_key= os.getenv('AZURE_OPENAI_KEY'),\n",
    "    endpoint= os.getenv('AZURE_OPENAI_EMBED_ENDPOINT'),\n",
    "    base_url= os.getenv('AZURE_OPENAI_BASE_EMBED_URL'))\n",
    "\n",
    "# Load product reviews from JSON file\n",
    "with open('./src/sample_products.json', 'r', encoding=\"utf-8\") as f:\n",
    "    reviews = json.load(f)\n",
    "\n",
    "databaseName = os.getenv(\"COSMOS_DATABASE_NAME\")\n",
    "containerName =  \"reviews\"\n",
    "async def create_products(reviews):\n",
    "    async with CosmosClient.from_connection_string(os.getenv(\"COSMOS_CONNECTION_STRING\")) as client: # the with statement will automatically initialize and close the async client\n",
    "        database = client.get_database_client(databaseName)\n",
    "        container = database.get_container_client(containerName)\n",
    "        for i in range(len(reviews)):\n",
    "            reviews[i]['id'] = str(i+1)\n",
    "            embedding = (await embedding_service.generate_embeddings([reviews[i][\"description\"]]))[0]\n",
    "            embedding_list = embedding.tolist()\n",
    "            # reviews[i]['vector1_diskann'] = embedding_list\n",
    "            reviews[i]['vector1'] = embedding_list\n",
    "            reviews[i]['vector2'] = embedding_list\n",
    "            await container.upsert_item(reviews[i])\n",
    "            \n",
    "    print(f\"Inserted {len(reviews)} records into the container '{containerName}' in database '{databaseName}'.\")"
   ]
  },
  {
   "cell_type": "code",
   "execution_count": 35,
   "id": "bdaf1df5",
   "metadata": {},
   "outputs": [
    {
     "name": "stdout",
     "output_type": "stream",
     "text": [
      "Inserted 1956 records into the container 'reviews' in database 'Contoso'.\n"
     ]
    }
   ],
   "source": [
    "await create_products(reviews)"
   ]
  },
  {
   "cell_type": "markdown",
   "id": "6bed15ff",
   "metadata": {},
   "source": [
    "### examples"
   ]
  },
  {
   "cell_type": "markdown",
   "id": "65e94a88",
   "metadata": {},
   "source": [
    "#### Full text search"
   ]
  },
  {
   "cell_type": "code",
   "execution_count": 36,
   "id": "f47095d5",
   "metadata": {},
   "outputs": [],
   "source": [
    "from azure.cosmos import CosmosClient\n",
    "import os\n",
    "from dotenv import load_dotenv\n",
    "load_dotenv()\n",
    "\n",
    "client = CosmosClient.from_connection_string(os.getenv(\"COSMOS_CONNECTION_STRING\"))\n",
    "containerName = \"reviews\"\n",
    "databaseName = os.getenv(\"COSMOS_DATABASE_NAME\")\n",
    "database = client.get_database_client(databaseName)\n",
    "container = database.get_container_client(containerName)"
   ]
  },
  {
   "cell_type": "code",
   "execution_count": 37,
   "id": "b80b27bd",
   "metadata": {},
   "outputs": [],
   "source": [
    "ex1 =container.query_items(\n",
    "    query=\"SELECT TOP 5 * FROM c WHERE FullTextContainsAll(c.description, 'watch', 'health')\",\n",
    "    enable_cross_partition_query=True)"
   ]
  },
  {
   "cell_type": "code",
   "execution_count": 38,
   "id": "d76a76eb",
   "metadata": {},
   "outputs": [
    {
     "name": "stdout",
     "output_type": "stream",
     "text": [
      "ID:  10 Name:  Apple Watch Series 8 Description:  The Apple Watch Series 8 integrates advanced health and fitness tracking with a bright, always-on Retina display. It offers ECG, blood oxygen monitoring, and temperature sensing, making it a smart companion for holistic wellness. With improved crash detection, fast charging, and seamless connectivity with the iPhone ecosystem, the Watch Series 8 is a comprehensive wearable for everyday life.\n",
      "ID:  20 Name:  Samsung Galaxy Watch 5 Pro Description:  Samsung Galaxy Watch 5 Pro offers robust fitness and health monitoring in a durable titanium build. Its 1.4-inch AMOLED display is protected by sapphire crystal, and advanced GPS features make it ideal for explorers. With body composition measurement and up to 80 hours of battery life, it's one of the most feature-packed smartwatches for Android users.\n",
      "ID:  125 Name:  Apple Watch Series 9 GPS Description:  The Apple Watch Series 9 GPS model offers advanced health tracking, crash detection, and a brighter, always-on Retina display. With new gestures, enhanced durability, and deep integration with Apple’s ecosystem, it’s a smart companion for fitness and daily organization.\n",
      "ID:  196 Name:  Apple Watch Series 9 Description:  Apple Watch Series 9 introduces new health sensors, a brighter Always-On Retina display, and a faster S9 SiP chip. With blood oxygen, ECG, fitness and sleep tracking, it integrates deeply with the Apple ecosystem for communication, navigation, and wellness, cementing its place as a top choice for tech-savvy users and fitness enthusiasts.\n",
      "ID:  240 Name:  Apple Watch Series 9 (GPS, 41mm) Description:  The Apple Watch Series 9 is the most advanced smartwatch in Apple’s lineup, offering innovative features for health, fitness, and connectivity. The always-on Retina display is brighter and more efficient, while the updated sensors enable advanced health tracking including blood oxygen monitoring and ECG. Integrated GPS, fitness tracking, and water resistance make this watch an essential daily companion. Stay connected to notifications, apps, and calls directly from your wrist and leverage the power of watchOS 10.\n"
     ]
    }
   ],
   "source": [
    "for item in ex1:\n",
    "    print(\"ID: \", item.get('id'), \"Name: \", item.get('name'), \"Description: \", item.get('description'))"
   ]
  },
  {
   "cell_type": "markdown",
   "id": "5390a930",
   "metadata": {},
   "source": [
    "#### Vector Search"
   ]
  },
  {
   "cell_type": "markdown",
   "id": "9fd8a5c4",
   "metadata": {},
   "source": [
    "Generate embedding for the question:"
   ]
  },
  {
   "cell_type": "code",
   "execution_count": 85,
   "id": "83fe9f0f",
   "metadata": {},
   "outputs": [],
   "source": [
    "question = \"I want a smart watch that is advanced, can track my health, has a long battery life and is waterproof.\"\n",
    "test_embedding = (await embedding_service.generate_embeddings([question]))[0]\n",
    "embedding_list = test_embedding.tolist() "
   ]
  },
  {
   "cell_type": "markdown",
   "id": "86ed2d6d",
   "metadata": {},
   "source": [
    "Search with index (DiskANN):"
   ]
  },
  {
   "cell_type": "code",
   "execution_count": 86,
   "id": "11820aff",
   "metadata": {},
   "outputs": [],
   "source": [
    "indexed_query = f\"\"\"\n",
    "SELECT TOP 5 c.id, c.name, c.description, VectorDistance(c.vector1, {embedding_list}) AS score\n",
    "FROM c\n",
    "ORDER BY VectorDistance(c.vector1, {embedding_list})\n",
    "\"\"\"\n"
   ]
  },
  {
   "cell_type": "code",
   "execution_count": 87,
   "id": "1d74689a",
   "metadata": {},
   "outputs": [],
   "source": [
    "indexed_query_result =container.query_items(\n",
    "    query=indexed_query,\n",
    "    enable_cross_partition_query=True)"
   ]
  },
  {
   "cell_type": "code",
   "execution_count": 88,
   "id": "b7fa7fe5",
   "metadata": {},
   "outputs": [
    {
     "name": "stdout",
     "output_type": "stream",
     "text": [
      "ID:  1806 Name:  Samsung Galaxy Watch 5 Description:  The Samsung Galaxy Watch 5 redefines smartwatch versatility with a robust suite of health and fitness tracking, including sleep analysis, body composition, and heart health tools. Its AMOLED display is vibrant and customizable, while the durable sapphire crystal glass resists scratches. Long battery life and compatibility with Android and iOS ensure everyday utility.\n",
      "ID:  237 Name:  Samsung Galaxy Watch5 Pro Description:  The Samsung Galaxy Watch5 Pro is built for adventure with advanced GPS, turn-by-turn navigation, a titanium case, and Sapphire Crystal display. Its robust set of health features—like body composition, sleep tracking, and heart rate sensors—combined with a multi-day battery, makes it the definitive smartwatch for outdoor enthusiasts and fitness-minded users.\n",
      "ID:  20 Name:  Samsung Galaxy Watch 5 Pro Description:  Samsung Galaxy Watch 5 Pro offers robust fitness and health monitoring in a durable titanium build. Its 1.4-inch AMOLED display is protected by sapphire crystal, and advanced GPS features make it ideal for explorers. With body composition measurement and up to 80 hours of battery life, it's one of the most feature-packed smartwatches for Android users.\n",
      "ID:  507 Name:  Huawei Watch GT 3 Description:  Huawei Watch GT 3 blends classic aesthetics with advanced health tracking, including SpO2, sleep, heart rate, and over 100 fitness modes. Its AMOLED display and two-week battery life, plus built-in GPS and Bluetooth calling, make it a top choice for tech-savvy users and athletes.\n",
      "ID:  677 Name:  Fitbit Charge 5 Advanced Fitness Tracker Description:  The Fitbit Charge 5 Advanced Fitness Tracker helps users stay on top of their health and wellness goals, offering features like built-in GPS, ECG monitoring, and a bright AMOLED display. Its health metrics dashboard tracks heart rate, sleep, stress, and SpO2 levels. With up to seven days of battery life, 24/7 activity tracking, and water resistance, it’s ideal for active lifestyles.\n"
     ]
    }
   ],
   "source": [
    "for item in indexed_query_result:\n",
    "    print(\"ID: \", item.get('id'), \"Name: \", item.get('name'), \"Description: \", item.get('description'))"
   ]
  },
  {
   "cell_type": "markdown",
   "id": "62d79b2c",
   "metadata": {},
   "source": [
    "Max of total request units: 99"
   ]
  },
  {
   "cell_type": "markdown",
   "id": "7251debf",
   "metadata": {},
   "source": [
    "Search with no index (brute force):"
   ]
  },
  {
   "cell_type": "code",
   "execution_count": 89,
   "id": "7a027b14",
   "metadata": {},
   "outputs": [],
   "source": [
    "brute_force_query = f\"\"\"\n",
    "SELECT TOP 5 c.id, c.name, c.description, VectorDistance(c.vector2, {embedding_list}) AS score\n",
    "FROM c\n",
    "ORDER BY VectorDistance(c.vector2, {embedding_list})\n",
    "\"\"\""
   ]
  },
  {
   "cell_type": "code",
   "execution_count": 90,
   "id": "2e569f00",
   "metadata": {},
   "outputs": [],
   "source": [
    "brute_force_query_result =container.query_items(\n",
    "    query=brute_force_query,\n",
    "    enable_cross_partition_query=True)"
   ]
  },
  {
   "cell_type": "code",
   "execution_count": 91,
   "id": "b3b21ab8",
   "metadata": {},
   "outputs": [
    {
     "name": "stdout",
     "output_type": "stream",
     "text": [
      "ID:  1806 Name:  Samsung Galaxy Watch 5 Description:  The Samsung Galaxy Watch 5 redefines smartwatch versatility with a robust suite of health and fitness tracking, including sleep analysis, body composition, and heart health tools. Its AMOLED display is vibrant and customizable, while the durable sapphire crystal glass resists scratches. Long battery life and compatibility with Android and iOS ensure everyday utility.\n",
      "ID:  237 Name:  Samsung Galaxy Watch5 Pro Description:  The Samsung Galaxy Watch5 Pro is built for adventure with advanced GPS, turn-by-turn navigation, a titanium case, and Sapphire Crystal display. Its robust set of health features—like body composition, sleep tracking, and heart rate sensors—combined with a multi-day battery, makes it the definitive smartwatch for outdoor enthusiasts and fitness-minded users.\n",
      "ID:  20 Name:  Samsung Galaxy Watch 5 Pro Description:  Samsung Galaxy Watch 5 Pro offers robust fitness and health monitoring in a durable titanium build. Its 1.4-inch AMOLED display is protected by sapphire crystal, and advanced GPS features make it ideal for explorers. With body composition measurement and up to 80 hours of battery life, it's one of the most feature-packed smartwatches for Android users.\n",
      "ID:  507 Name:  Huawei Watch GT 3 Description:  Huawei Watch GT 3 blends classic aesthetics with advanced health tracking, including SpO2, sleep, heart rate, and over 100 fitness modes. Its AMOLED display and two-week battery life, plus built-in GPS and Bluetooth calling, make it a top choice for tech-savvy users and athletes.\n",
      "ID:  677 Name:  Fitbit Charge 5 Advanced Fitness Tracker Description:  The Fitbit Charge 5 Advanced Fitness Tracker helps users stay on top of their health and wellness goals, offering features like built-in GPS, ECG monitoring, and a bright AMOLED display. Its health metrics dashboard tracks heart rate, sleep, stress, and SpO2 levels. With up to seven days of battery life, 24/7 activity tracking, and water resistance, it’s ideal for active lifestyles.\n"
     ]
    }
   ],
   "source": [
    "for item in brute_force_query_result:\n",
    "    print(\"ID: \", item.get('id'), \"Name: \", item.get('name'), \"Description: \", item.get('description'))"
   ]
  },
  {
   "cell_type": "markdown",
   "id": "f745dd05",
   "metadata": {},
   "source": [
    "Max of total request units: 206"
   ]
  },
  {
   "cell_type": "markdown",
   "id": "c8353d4e",
   "metadata": {},
   "source": [
    "Both yielded same results, both missed Fitbit Charge 5 as the most compatible (only one that has also water resistence feature.)"
   ]
  },
  {
   "cell_type": "markdown",
   "id": "cf962f92",
   "metadata": {},
   "source": [
    "#### Hybrid search\n",
    "Learn more: https://learn.microsoft.com/en-us/azure/cosmos-db/gen-ai/hybrid-search?context=/azure/cosmos-db/nosql/context/context\n"
   ]
  },
  {
   "cell_type": "code",
   "execution_count": 141,
   "id": "8f7329e3",
   "metadata": {},
   "outputs": [],
   "source": [
    "hybrid_query = f\"\"\"SELECT TOP 5 * \n",
    "                    FROM c\n",
    "                    ORDER BY RANK RRF(VectorDistance(c.vector1, {embedding_list}), FullTextScore(c.description,'water', 'battery', 'health'))\"\"\""
   ]
  },
  {
   "cell_type": "code",
   "execution_count": 142,
   "id": "1674cf36",
   "metadata": {},
   "outputs": [],
   "source": [
    "\n",
    "hybrid_query_result =container.query_items(\n",
    "query=hybrid_query,\n",
    "enable_cross_partition_query=True)\n"
   ]
  },
  {
   "cell_type": "code",
   "execution_count": 143,
   "id": "8e4b374b",
   "metadata": {},
   "outputs": [
    {
     "name": "stdout",
     "output_type": "stream",
     "text": [
      "ID:  677 Name:  Fitbit Charge 5 Advanced Fitness Tracker Description:  The Fitbit Charge 5 Advanced Fitness Tracker helps users stay on top of their health and wellness goals, offering features like built-in GPS, ECG monitoring, and a bright AMOLED display. Its health metrics dashboard tracks heart rate, sleep, stress, and SpO2 levels. With up to seven days of battery life, 24/7 activity tracking, and water resistance, it’s ideal for active lifestyles.\n",
      "ID:  560 Name:  Apple Watch Ultra 2 Description:  Apple Watch Ultra 2 is engineered for adventure, durability, and exploration. It offers the brightest Apple display yet, customizable action button, advanced GPS, and water resistance up to 100 meters. With new trail running and diving features, precision health sensors, and long battery life, it’s the ultimate smartwatch for extreme sports and daily use.\n",
      "ID:  1806 Name:  Samsung Galaxy Watch 5 Description:  The Samsung Galaxy Watch 5 redefines smartwatch versatility with a robust suite of health and fitness tracking, including sleep analysis, body composition, and heart health tools. Its AMOLED display is vibrant and customizable, while the durable sapphire crystal glass resists scratches. Long battery life and compatibility with Android and iOS ensure everyday utility.\n",
      "ID:  512 Name:  Xiaomi Mi Smart Band 7 Description:  Xiaomi Mi Smart Band 7 comes with a large AMOLED display, continuous SpO2 monitoring, over 110 fitness modes, and 14-day battery life. Water resistant up to 50 meters, it offers comprehensive health insights and seamless integration with Android and iOS devices.\n",
      "ID:  1188 Name:  Garmin Fenix 7 Description:  Garmin Fenix 7 is a rugged multisport GPS smartwatch offering advanced training tools, health metrics, and long battery life. Its touchscreen and physical buttons allow easy navigation during workouts or outdoor adventures. Mapping, solar charging options, and water resistance make it a favorite for athletes, explorers, and fitness enthusiasts alike.\n"
     ]
    }
   ],
   "source": [
    "for item in hybrid_query_result:\n",
    "    print(\"ID: \", item.get('id'), \"Name: \", item.get('name'), \"Description: \", item.get('description'))"
   ]
  },
  {
   "cell_type": "code",
   "execution_count": null,
   "id": "b2d36a5c",
   "metadata": {},
   "outputs": [],
   "source": []
  }
 ],
 "metadata": {
  "kernelspec": {
   "display_name": "labs",
   "language": "python",
   "name": "python3"
  },
  "language_info": {
   "codemirror_mode": {
    "name": "ipython",
    "version": 3
   },
   "file_extension": ".py",
   "mimetype": "text/x-python",
   "name": "python",
   "nbconvert_exporter": "python",
   "pygments_lexer": "ipython3",
   "version": "3.11.9"
  }
 },
 "nbformat": 4,
 "nbformat_minor": 5
}
