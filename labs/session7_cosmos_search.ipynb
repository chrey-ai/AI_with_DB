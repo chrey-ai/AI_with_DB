{
 "cells": [
  {
   "cell_type": "markdown",
   "id": "96b798c8",
   "metadata": {},
   "source": [
    "### For this lab, you would need to create a Cosmos DB container with vector indexing and search features enabled. \n",
    "(read more: https://learn.microsoft.com/en-us/python/api/overview/azure/cosmos-readme?view=azure-python)\n",
    "\n",
    "\n"
   ]
  },
  {
   "cell_type": "markdown",
   "id": "5992f2a2",
   "metadata": {},
   "source": [
    "### Set up steps"
   ]
  },
  {
   "cell_type": "markdown",
   "id": "a5957995",
   "metadata": {},
   "source": [
    "1- Enable Vector indexing and search (Vector Search for NoSQL API) and Fulle Text search (Preview Features for Full Text Search) in Azure Cosmos DB for NoSQL via Features page of your Azure Cosmos DB:\n",
    "<img src=\".\\imgs\\cosmos_policy.png\" alt=\"description\" width=\"900\" height=\"300\"/>"
   ]
  },
  {
   "cell_type": "markdown",
   "id": "170c1088",
   "metadata": {},
   "source": [
    "2- Define vector embedding policy, indexing policy and full text policy which will then be used for creating the container:"
   ]
  },
  {
   "cell_type": "code",
   "execution_count": 31,
   "id": "499ff750",
   "metadata": {},
   "outputs": [],
   "source": [
    "vector_embedding_policy = {\n",
    "    \"vectorEmbeddings\": [\n",
    "        {\n",
    "            \"path\":\"/vector1\",\n",
    "            \"dataType\":\"float32\",\n",
    "            \"distanceFunction\":\"cosine\",\n",
    "            \"dimensions\":1536\n",
    "        },\n",
    "                {\n",
    "            \"path\":\"/vector2\",\n",
    "            \"dataType\":\"float32\",\n",
    "            \"distanceFunction\":\"cosine\",\n",
    "            \"dimensions\":1536\n",
    "        }\n",
    "    ]\n",
    "}"
   ]
  },
  {
   "cell_type": "code",
   "execution_count": 32,
   "id": "92f1cf35",
   "metadata": {},
   "outputs": [],
   "source": [
    "full_text_policy = {\n",
    "    \"defaultLanguage\": \"en-US\",\n",
    "    \"fullTextPaths\": [\n",
    "        {\n",
    "            \"path\": \"/description\",\n",
    "            \"language\": \"en-US\"\n",
    "        },\n",
    "                {\n",
    "            \"path\": \"/name\",\n",
    "            \"language\": \"en-US\"\n",
    "        }\n",
    "    ]\n",
    "}"
   ]
  },
  {
   "cell_type": "code",
   "execution_count": 33,
   "id": "16014f7e",
   "metadata": {},
   "outputs": [],
   "source": [
    "indexing_policy = {\n",
    "    \"indexingMode\": \"consistent\",\n",
    "    \"automatic\": True,\n",
    "    \"includedPaths\": [\n",
    "        {\n",
    "            \"path\": \"/*\"\n",
    "        }\n",
    "    ],\n",
    "    \"excludedPaths\": [\n",
    "        {\n",
    "            \"path\": \"/_etag/?\"\n",
    "        },\n",
    "        {\n",
    "            \"path\": \"/vector1/*\"\n",
    "        }],\n",
    "    \"vectorIndexes\": [\n",
    "            {\"path\": \"/vector1\", \"type\": \"diskANN\"},\n",
    "        ],\n",
    "\n",
    "    \"fullTextIndexes\": [\n",
    "            {\"path\": \"/description\"},\n",
    "            {\"path\": \"/name\"}\n",
    "        ]\n",
    "}"
   ]
  },
  {
   "cell_type": "markdown",
   "id": "b3ce79e6",
   "metadata": {},
   "source": [
    "3- Create the container \"reviews\""
   ]
  },
  {
   "cell_type": "code",
   "execution_count": 34,
   "id": "147af9e3",
   "metadata": {},
   "outputs": [
    {
     "data": {
      "text/plain": [
       "<ContainerProxy [dbs/Contoso/colls/reviews]>"
      ]
     },
     "execution_count": 34,
     "metadata": {},
     "output_type": "execute_result"
    }
   ],
   "source": [
    "from azure.cosmos import CosmosClient, PartitionKey\n",
    "import os\n",
    "from dotenv import load_dotenv\n",
    "load_dotenv()\n",
    "\n",
    "\n",
    "databaseName = os.getenv(\"COSMOS_DATABASE_NAME\")\n",
    "containerName =  \"reviews\"\n",
    "client = CosmosClient.from_connection_string(os.getenv(\"COSMOS_CONNECTION_STRING\"))\n",
    "database = client.get_database_client(databaseName)\n",
    "database.create_container(id=containerName, partition_key=PartitionKey(path=\"/category\"),\n",
    "                          indexing_policy=indexing_policy,\n",
    "                          vector_embedding_policy=vector_embedding_policy,\n",
    "                          full_text_policy=full_text_policy)"
   ]
  },
  {
   "cell_type": "markdown",
   "id": "4f407c8c",
   "metadata": {},
   "source": [
    "4- Populate with data + vectors"
   ]
  },
  {
   "cell_type": "code",
   "execution_count": null,
   "id": "9eea20f0",
   "metadata": {},
   "outputs": [],
   "source": [
    "from azure.cosmos.aio import CosmosClient\n",
    "import os\n",
    "import json\n",
    "\n",
    "# connect to embedding service\n",
    "from semantic_kernel.connectors.ai.open_ai import AzureTextEmbedding\n",
    "import os\n",
    "api_key = os.getenv(\"OPENAI_API_KEY\")\n",
    "embedding_service = AzureTextEmbedding(\n",
    "    deployment_name=\"text-embedding-ada-002\",\n",
    "    api_key= os.getenv('AZURE_OPENAI_KEY'),\n",
    "    endpoint= os.getenv('AZURE_OPENAI_EMBED_ENDPOINT'),\n",
    "    base_url= os.getenv('AZURE_OPENAI_BASE_EMBED_URL'))\n",
    "\n",
    "# Load product reviews from JSON file\n",
    "with open('./src/sample_products.json', 'r') as f:\n",
    "    reviews = json.load(f)\n",
    "\n",
    "databaseName = os.getenv(\"COSMOS_DATABASE_NAME\")\n",
    "containerName =  \"reviews\"\n",
    "async def create_products(reviews):\n",
    "    async with CosmosClient.from_connection_string(os.getenv(\"COSMOS_CONNECTION_STRING\")) as client: # the with statement will automatically initialize and close the async client\n",
    "        database = client.get_database_client(databaseName)\n",
    "        container = database.get_container_client(containerName)\n",
    "        for i in range(len(reviews)):\n",
    "            reviews[i]['id'] = str(i+1)\n",
    "            embedding = (await embedding_service.generate_embeddings([reviews[i][\"description\"]]))[0]\n",
    "            embedding_list = embedding.tolist()\n",
    "            # reviews[i]['vector1_diskann'] = embedding_list\n",
    "            reviews[i]['vector1'] = embedding_list\n",
    "            reviews[i]['vector2'] = embedding_list\n",
    "            await container.upsert_item(reviews[i])\n",
    "            \n",
    "    print(f\"Inserted {len(reviews)} records into the container '{containerName}' in database '{databaseName}'.\")"
   ]
  },
  {
   "cell_type": "code",
   "execution_count": 36,
   "id": "bdaf1df5",
   "metadata": {},
   "outputs": [
    {
     "name": "stdout",
     "output_type": "stream",
     "text": [
      "Inserted 2000 records into the container 'reviews' in database 'Contoso'.\n"
     ]
    }
   ],
   "source": [
    "await create_products(reviews)"
   ]
  },
  {
   "cell_type": "markdown",
   "id": "6bed15ff",
   "metadata": {},
   "source": [
    "### examples"
   ]
  },
  {
   "cell_type": "markdown",
   "id": "65e94a88",
   "metadata": {},
   "source": [
    "#### Full text search"
   ]
  },
  {
   "cell_type": "code",
   "execution_count": 37,
   "id": "f47095d5",
   "metadata": {},
   "outputs": [],
   "source": [
    "from azure.cosmos import CosmosClient\n",
    "import os\n",
    "from dotenv import load_dotenv\n",
    "load_dotenv()\n",
    "\n",
    "client = CosmosClient.from_connection_string(os.getenv(\"COSMOS_CONNECTION_STRING\"))\n",
    "containerName = \"reviews\"\n",
    "databaseName = os.getenv(\"COSMOS_DATABASE_NAME\")\n",
    "database = client.get_database_client(databaseName)\n",
    "container = database.get_container_client(containerName)"
   ]
  },
  {
   "cell_type": "code",
   "execution_count": 21,
   "id": "b80b27bd",
   "metadata": {},
   "outputs": [],
   "source": [
    "ex1 =container.query_items(\n",
    "    query=\"SELECT TOP 10 * FROM c WHERE FullTextContainsALL(c.review, 'microsoft')\",\n",
    "    enable_cross_partition_query=True)"
   ]
  },
  {
   "cell_type": "code",
   "execution_count": 43,
   "id": "e94770e9",
   "metadata": {},
   "outputs": [],
   "source": [
    "question = \"tablet with heating issues or a camera with great image quality\"\n",
    "test_embedding = (await embedding_service.generate_embeddings([question]))[0]\n"
   ]
  },
  {
   "cell_type": "markdown",
   "id": "5390a930",
   "metadata": {},
   "source": [
    "#### Vector Search"
   ]
  },
  {
   "cell_type": "code",
   "execution_count": 47,
   "id": "11820aff",
   "metadata": {},
   "outputs": [],
   "source": [
    "# test_embedding is a numpy array or list\n",
    "embedding_list = test_embedding.tolist() \n",
    "\n",
    "query2 = f\"\"\"\n",
    "SELECT TOP 5 c.review, c.product_id, VectorDistance(c.vector1, {embedding_list}) AS score\n",
    "FROM c\n",
    "ORDER BY VectorDistance(c.vector1, {embedding_list})\n",
    "\"\"\"\n"
   ]
  },
  {
   "cell_type": "code",
   "execution_count": 48,
   "id": "1d74689a",
   "metadata": {},
   "outputs": [],
   "source": [
    "b2 =container.query_items(\n",
    "    query=query2,\n",
    "    enable_cross_partition_query=True)"
   ]
  }
 ],
 "metadata": {
  "kernelspec": {
   "display_name": "labs",
   "language": "python",
   "name": "python3"
  },
  "language_info": {
   "codemirror_mode": {
    "name": "ipython",
    "version": 3
   },
   "file_extension": ".py",
   "mimetype": "text/x-python",
   "name": "python",
   "nbconvert_exporter": "python",
   "pygments_lexer": "ipython3",
   "version": "3.11.9"
  }
 },
 "nbformat": 4,
 "nbformat_minor": 5
}
