{
 "cells": [
  {
   "cell_type": "markdown",
   "id": "04e00f06",
   "metadata": {},
   "source": [
    "To index data in Azure SQL db, for now we would need to use Azure AI search. \n"
   ]
  },
  {
   "cell_type": "markdown",
   "id": "5c81f1bc",
   "metadata": {},
   "source": [
    "\n",
    "#### First, let's populate the table with sample data:"
   ]
  },
  {
   "cell_type": "markdown",
   "id": "22eb06ee",
   "metadata": {},
   "source": [
    "1. Update your .env file with required environment variables for connecting to your Azure SQL database (assuming you already have created an Azure SQL resource and have created a database)\n",
    "2. Ensure you are in the src folder and run: **python init_sql_db.py**\n",
    "    - Above step will populate a table with sample products and their descriptions"
   ]
  },
  {
   "cell_type": "markdown",
   "id": "aa117cb3",
   "metadata": {},
   "source": [
    "#### Create an Azure AI Search resource (free version is sufficient)\n",
    "Go to your Azure AI Search resource page:\n",
    "1. Go to 'Import and Vectorize Data' and click on Azure SQL Database\n",
    "    - You can choose to also only import your data in case you would like to generate vectors outside of AI Search service. \n",
    "2. Populate required info to connect to your SQL database and also choose the 'products_catalogue' table\n",
    "3. Next step is 'Vectorize your text':\n",
    "    - Choose description_dup for vectorizing\n",
    "    - Choose your deployed Azure Open AI embedding model\n",
    "    - Confirm and click next\n",
    "4. For this example, we build a once time index so choose 'Once' under scheduled indexing\n",
    "5. Choose any prefix you want and click on create (we chose 'cat-search')\n",
    "6. It may take a few minutes for the index to be ready...\n",
    "    - To check, go to overview -> properties and you can see the state of your index there\n",
    "\n",
    "\n"
   ]
  },
  {
   "cell_type": "markdown",
   "id": "46d70238",
   "metadata": {},
   "source": [
    "#### Remember to update .env values:\n",
    "- AZURE_SEARCH_ENDPOINT: endpoint is found under url value\n",
    "- AZURE_SEARCH_KEY: you can find the key value under settings -> key\n",
    "- AZURE_SEARCH_INDEX: name of your index (which is the prefix you chose. Ours is cat-search)"
   ]
  },
  {
   "cell_type": "markdown",
   "id": "7c3a7c49",
   "metadata": {},
   "source": [
    "#### Now we are ready to perform a simple test:"
   ]
  },
  {
   "cell_type": "markdown",
   "id": "2e644c30",
   "metadata": {},
   "source": [
    "##### Connecting to AI search client:"
   ]
  },
  {
   "cell_type": "code",
   "execution_count": 64,
   "id": "8489be95",
   "metadata": {},
   "outputs": [],
   "source": [
    "import os\n",
    "from dotenv import load_dotenv\n",
    "load_dotenv()\n",
    "from azure.search.documents import SearchClient  \n",
    "from azure.search.documents.models import VectorizableTextQuery \n",
    "from azure.core.credentials import AzureKeyCredential \n",
    "\n",
    "class AzureSearch():\n",
    "    def __init__(self):\n",
    "        self.aisearch_key = os.environ.get(\"AZURE_SEARCH_KEY\")\n",
    "        self.service_endpoint = os.environ.get(\"AZURE_SEARCH_ENDPOINT\")\n",
    "        self.index_name = os.environ.get(\"AZURE_SEARCH_INDEX\")\n",
    "        self.embedding_length = 1536\n",
    "        self.search_client = SearchClient(self.service_endpoint,\n",
    "                                          self.index_name,\n",
    "                                          credential=AzureKeyCredential(self.aisearch_key))\n",
    "\n",
    "    async def search_query(self, vectors, question, top_n=5):\n",
    "    \n",
    "        results = self.search_client.search(search_text=question,\n",
    "                                            vector_queries=[vectors],\n",
    "                                            select=[\n",
    "                                            \"prod_id\", \n",
    "                                            \"description\",\n",
    "                                            \"name\",\n",
    "                                            \"category\"],\n",
    "                                             top=top_n)\n",
    "        return results\n",
    "    \n",
    "    async def hybrid_search(self, search_input):\n",
    "\n",
    "        vector_query = VectorizableTextQuery(text=search_input, k_nearest_neighbors=2, fields=\"text_vector\", exhaustive=True)\n",
    "\n",
    "        results_itr = await self.search_query(vector_query, search_input)\n",
    "        res_list = []\n",
    "        for r in results_itr:\n",
    "            res_list.append(r)\n",
    "        for i, r in enumerate(res_list, 1):\n",
    "            print(f\"{i}. Product ID: {r.get('prod_id', 'N/A')}\")\n",
    "            print(f\"   Name: {r.get('name', 'N/A')}\")\n",
    "            print(f\"   Category: {r.get('category', 'N/A')}\")\n",
    "            print(f\"   Description: {r.get('description', 'N/A')[:100]}...\")\n",
    "            print(\"-\" * 50)\n",
    "\n",
    "        return res_list"
   ]
  },
  {
   "cell_type": "code",
   "execution_count": 65,
   "id": "fc4ba447",
   "metadata": {},
   "outputs": [],
   "source": [
    "aisearch_engine = AzureSearch()"
   ]
  },
  {
   "cell_type": "code",
   "execution_count": null,
   "id": "9ece74f1",
   "metadata": {},
   "outputs": [],
   "source": [
    "\n",
    "question = \"a smart watch that can track my health, has a long battery life and is waterproof.\"\n"
   ]
  },
  {
   "cell_type": "code",
   "execution_count": 63,
   "id": "039d2ece",
   "metadata": {},
   "outputs": [
    {
     "name": "stdout",
     "output_type": "stream",
     "text": [
      "1. Product ID: 1806\n",
      "   Name: Samsung Galaxy Watch 5\n",
      "   Category: Wearable\n",
      "   Description: The Samsung Galaxy Watch 5 redefines smartwatch versatility with a robust suite of health and fitnes...\n",
      "   Score: 0.0318\n",
      "--------------------------------------------------\n",
      "2. Product ID: 20\n",
      "   Name: Samsung Galaxy Watch 5 Pro\n",
      "   Category: GPS Watch\n",
      "   Description: Samsung Galaxy Watch 5 Pro offers robust fitness and health monitoring in a durable titanium build. ...\n",
      "   Score: 0.0311\n",
      "--------------------------------------------------\n",
      "3. Product ID: 1034\n",
      "   Name: Withings Body Comp Scale\n",
      "   Category: Health\n",
      "   Description: Withings Body Comp is a Wi-Fi smart scale that measures body weight, fat percentage, muscle mass, an...\n",
      "   Score: 0.0167\n",
      "--------------------------------------------------\n",
      "4. Product ID: 743\n",
      "   Name: Apple Watch Ultra\n",
      "   Category: GPS Watch\n",
      "   Description: The Apple Watch Ultra is designed for extreme athletes and adventurers, boasting a rugged titanium c...\n",
      "   Score: 0.0164\n",
      "--------------------------------------------------\n",
      "5. Product ID: 10\n",
      "   Name: Apple Watch Series 8\n",
      "   Category: GPS Watch\n",
      "   Description: The Apple Watch Series 8 integrates advanced health and fitness tracking with a bright, always-on Re...\n",
      "   Score: 0.0161\n",
      "--------------------------------------------------\n"
     ]
    }
   ],
   "source": [
    "res = await aisearch_engine.hybrid_search(question)"
   ]
  }
 ],
 "metadata": {
  "kernelspec": {
   "display_name": "labs",
   "language": "python",
   "name": "python3"
  },
  "language_info": {
   "codemirror_mode": {
    "name": "ipython",
    "version": 3
   },
   "file_extension": ".py",
   "mimetype": "text/x-python",
   "name": "python",
   "nbconvert_exporter": "python",
   "pygments_lexer": "ipython3",
   "version": "3.11.9"
  }
 },
 "nbformat": 4,
 "nbformat_minor": 5
}
