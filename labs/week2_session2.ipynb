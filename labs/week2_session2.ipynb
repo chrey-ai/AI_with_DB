{
 "cells": [
  {
   "cell_type": "markdown",
   "id": "4e7f19c8",
   "metadata": {},
   "source": [
    "### Semantic kernel Vector Search with chat context/history \n",
    "\n",
    "In previous session, we walked through a simple example based on company ABC data. In that example, and employee wanted to simply connect to company's data, retrieve some info, and add a new record.\n",
    "\n",
    "Now let's consider a different scenario. \n",
    "\n",
    "Let's assume the company has a chatbot that provides support to customers. For an optimal experience, the chatbot needs to not only access to all product, sales, shipment and return data, but also it would need to be able to pick up the conversation with each customer where it was left off last. \n",
    "\n",
    "For this usecase, we are going to introduce and use below semantic kernel capabilities (in addition to what we covered before) to develop a solution:\n",
    "- Chat completion **Agent** to manage the conversation and data access (one agent)\n",
    "  -- example: we don't want the agent to access data for other customers or sensitive company data. \n",
    "- Vector search using Semantic Kernel Vector Store connectors\n",
    "  -- Use company data as context to guide the conversation aka **RAG**\n",
    "- Store and maintain **chat history** per customer and retrieve the history when needed.\n",
    "  -- We will persist the history in CosmosDB\n",
    "\n"
   ]
  },
  {
   "cell_type": "code",
   "execution_count": null,
   "id": "6f940329",
   "metadata": {},
   "outputs": [],
   "source": [
    "from semantic_kernel.kernel import Kernel\n",
    "from semantic_kernel.connectors.ai.open_ai import AzureChatCompletion\n",
    "# importing all we need for this session\n",
    "from semantic_kernel.kernel import Kernel\n",
    "from semantic_kernel.connectors.ai.open_ai import AzureChatCompletion\n",
    "from typing import TypedDict, Annotated, List, Optional\n",
    "from semantic_kernel.functions import kernel_function\n",
    "from semantic_kernel.connectors.ai.function_choice_behavior import (\n",
    "    FunctionChoiceBehavior,\n",
    ")\n",
    "from semantic_kernel.contents.chat_history import ChatHistory\n",
    "\n",
    "from semantic_kernel.connectors.ai.open_ai.prompt_execution_settings.azure_chat_prompt_execution_settings import (\n",
    "    AzureChatPromptExecutionSettings,\n",
    ")\n",
    "\n",
    "\n",
    "kernel = Kernel()\n",
    "\n",
    "# Auto-loads defaults from .env file, alternatively you can set endpoint, deployment_name and api_key directly\n",
    "chat_completion = AzureChatCompletion()\n",
    "\n",
    "kernel.add_service(chat_completion)"
   ]
  },
  {
   "cell_type": "code",
   "execution_count": 2,
   "id": "f7259248",
   "metadata": {},
   "outputs": [
    {
     "name": "stdout",
     "output_type": "stream",
     "text": [
      "Connection uri was rertieved successfully.\n"
     ]
    }
   ],
   "source": [
    "import src.pg_data_plugin\n"
   ]
  }
 ],
 "metadata": {
  "kernelspec": {
   "display_name": "labs_env",
   "language": "python",
   "name": "python3"
  },
  "language_info": {
   "codemirror_mode": {
    "name": "ipython",
    "version": 3
   },
   "file_extension": ".py",
   "mimetype": "text/x-python",
   "name": "python",
   "nbconvert_exporter": "python",
   "pygments_lexer": "ipython3",
   "version": "3.11.9"
  }
 },
 "nbformat": 4,
 "nbformat_minor": 5
}
